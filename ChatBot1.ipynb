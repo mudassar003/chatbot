{
 "cells": [
  {
   "cell_type": "code",
   "execution_count": 34,
   "metadata": {},
   "outputs": [],
   "source": [
    "import os\n",
    "import getpass\n",
    "os.environ[\"OPENAI_API_KEY\"] = getpass.getpass(\"Enter API KEY\")\n",
    "os.environ[\"LANGSMITH_API_KEY\"] = getpass.getpass(\"Enter API KEY\")\n",
    "os.environ[\"TAVILY_API_KEY\"] = getpass.getpass(\"Enter API KEY\")\n",
    "os.environ[\"LANGSMITH_TRACING\"] = \"true\""
   ]
  },
  {
   "cell_type": "code",
   "execution_count": 3,
   "metadata": {},
   "outputs": [],
   "source": [
    "from langchain.chat_models import init_chat_model\n",
    "model = init_chat_model(\"gpt-4o-mini\" , model_provider = \"openai\") \n"
   ]
  },
  {
   "cell_type": "code",
   "execution_count": null,
   "metadata": {},
   "outputs": [],
   "source": [
    "from langchain_core.prompts import ChatPromptTemplate, MessagesPlaceholder\n",
    "\n",
    "message_template = ChatPromptTemplate.from_messages([\n",
    "    (\"system\", \"I am {age} years old. You will act as a scientist expert in Artificail Intelligence\"),\n",
    "    MessagesPlaceholder(variable_name = \"messages\")\n",
    "])"
   ]
  },
  {
   "cell_type": "code",
   "execution_count": 32,
   "metadata": {},
   "outputs": [],
   "source": [
    "from langgraph.graph import START,MessagesState, StateGraph\n",
    "from langgraph.checkpoint.memory import MemorySaver\n",
    "from typing import Sequence\n",
    "from typing_extensions import TypedDict, Annotated\n",
    "from langchain_core.messages import BaseMessage\n",
    "from langgraph.graph.message import add_messages\n",
    "from langchain_community.tools.tavily_search import TavilySearchResults\n",
    "from langgraph.prebuilt import create_react_agent\n",
    "\n",
    "web_search = TavilySearchResults(max_results=2)\n",
    "tools = [web_search]\n",
    "tool_executer = create_react_agent(model,tools)\n",
    "\n",
    "\n",
    "class State(TypedDict):\n",
    "    messages: Annotated[Sequence[BaseMessage], add_messages]\n",
    "    age: str\n",
    "\n",
    "workflow = StateGraph(state_schema = State)\n",
    "\n",
    "def call_model(State):\n",
    "    template = message_template.invoke(State)\n",
    "    responce = model.invoke(template)\n",
    "    return {\"messages\" : responce}\n",
    "\n",
    "memory = MemorySaver()\n",
    "\n",
    "workflow.add_node(\"model\", call_model)\n",
    "workflow.add_edge(START, \"model\")\n",
    "\n",
    "app = workflow.compile(checkpointer = memory)"
   ]
  },
  {
   "cell_type": "code",
   "execution_count": 33,
   "metadata": {},
   "outputs": [
    {
     "name": "stdout",
     "output_type": "stream",
     "text": [
      "==================================\u001b[1m Ai Message \u001b[0m==================================\n",
      "\n",
      "Hello Mudassar Rehman! It's great to meet you. How can I assist you today in the field of artificial intelligence?\n"
     ]
    }
   ],
   "source": [
    "# We can add thread id using a reference also but I dont remeber yet exact syntax of it\n",
    "\n",
    "config = {\"configurable\" : {\"thread_id\" : \"mudassar\"}}\n",
    "\n",
    "from langchain_core.messages import HumanMessage\n",
    "query = \"Hello my name is Mudassar Rehman\"\n",
    "age = \"25\"\n",
    "input_prompt = [HumanMessage(query)]\n",
    "output = app.invoke(\n",
    "    {\"messages\" : input_prompt, \"age\": age} , config\n",
    ")\n",
    "output[\"messages\"][-1].pretty_print()"
   ]
  }
 ],
 "metadata": {
  "kernelspec": {
   "display_name": "langchain",
   "language": "python",
   "name": "python3"
  },
  "language_info": {
   "codemirror_mode": {
    "name": "ipython",
    "version": 3
   },
   "file_extension": ".py",
   "mimetype": "text/x-python",
   "name": "python",
   "nbconvert_exporter": "python",
   "pygments_lexer": "ipython3",
   "version": "3.10.16"
  }
 },
 "nbformat": 4,
 "nbformat_minor": 2
}
